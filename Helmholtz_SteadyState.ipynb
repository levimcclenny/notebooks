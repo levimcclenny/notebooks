{
  "nbformat": 4,
  "nbformat_minor": 0,
  "metadata": {
    "colab": {
      "name": "TensorDiffEq_SteadyState.ipynb",
      "provenance": [],
      "collapsed_sections": [],
      "toc_visible": true
    },
    "kernelspec": {
      "name": "python3",
      "display_name": "Python 3"
    },
    "accelerator": "GPU"
  },
  "cells": [
    {
      "cell_type": "markdown",
      "metadata": {
        "id": "_cUMos8l9QgU"
      },
      "source": [
        "# TensorDiffEq for Helmholtz"
      ]
    },
    {
      "cell_type": "markdown",
      "metadata": {
        "id": "x51g8Y3s9WY_"
      },
      "source": [
        "## pip install tensordiffeq"
      ]
    },
    {
      "cell_type": "code",
      "metadata": {
        "id": "xStuZ85R8vpI"
      },
      "source": [
        "!pip install tensordiffeq"
      ],
      "execution_count": null,
      "outputs": []
    },
    {
      "cell_type": "markdown",
      "metadata": {
        "id": "f4n05zXQ9c7M"
      },
      "source": [
        "## install tex fonts for the plotting routine (if needed, may be skipped)"
      ]
    },
    {
      "cell_type": "code",
      "metadata": {
        "colab": {
          "base_uri": "https://localhost:8080/"
        },
        "id": "mDiJEQKDAu0R",
        "outputId": "fbfbbae5-7aea-4832-cda7-630804dcbc6e"
      },
      "source": [
        "!apt-get install texlive-latex-recommended \n",
        "!apt install texlive-latex-extra texlive-fonts-recommended texlive-fonts-extra cm-super dvipng"
      ],
      "execution_count": null,
      "outputs": [
        {
          "output_type": "stream",
          "text": [
            "Reading package lists... Done\n",
            "Building dependency tree       \n",
            "Reading state information... Done\n",
            "texlive-latex-recommended is already the newest version (2017.20180305-1).\n",
            "0 upgraded, 0 newly installed, 0 to remove and 10 not upgraded.\n",
            "Reading package lists... Done\n",
            "Building dependency tree       \n",
            "Reading state information... Done\n",
            "cm-super is already the newest version (0.3.4-11).\n",
            "dvipng is already the newest version (1.15-1).\n",
            "texlive-fonts-extra is already the newest version (2017.20180305-2).\n",
            "texlive-fonts-recommended is already the newest version (2017.20180305-1).\n",
            "texlive-latex-extra is already the newest version (2017.20180305-2).\n",
            "0 upgraded, 0 newly installed, 0 to remove and 10 not upgraded.\n"
          ],
          "name": "stdout"
        }
      ]
    },
    {
      "cell_type": "markdown",
      "metadata": {
        "id": "lAiWx0e6P0sJ"
      },
      "source": [
        "## Helmholtz from `https://github.com/tensordiffeq/TensorDiffEq/blob/main/examples/steady-state.py`"
      ]
    },
    {
      "cell_type": "code",
      "metadata": {
        "colab": {
          "base_uri": "https://localhost:8080/"
        },
        "id": "tTbUJyWwQN9j",
        "outputId": "9193ed1b-db26-4599-8916-80fa9fdc7bc2"
      },
      "source": [
        "import math\n",
        "import matplotlib.pyplot as plt\n",
        "import tensorflow as tf\n",
        "import tensordiffeq as tdq\n",
        "from tensordiffeq.boundaries import *\n",
        "from tensordiffeq.models import CollocationSolverND\n",
        "from tensorflow.math import sin\n",
        "from tensordiffeq.utils import constant\n",
        "\n",
        "from tensordiffeq.plotting import *\n",
        "\n",
        "Domain = DomainND([\"x\", \"y\"])\n",
        "\n",
        "Domain.add(\"x\", [-1.0, 1.0], 1001)\n",
        "Domain.add(\"y\", [-1.0, 1.0], 1001)\n",
        "\n",
        "N_f = 10000\n",
        "Domain.generate_collocation_points(N_f)\n",
        "\n",
        "\n",
        "def f_model(u_model, x, y):\n",
        "    u = u_model(tf.concat([x, y], 1))\n",
        "    u_x = tf.gradients(u, x)[0]\n",
        "    u_y = tf.gradients(u, y)[0]\n",
        "    u_xx = tf.gradients(u_x, x)[0]\n",
        "    u_yy = tf.gradients(u_y, y)[0]\n",
        "\n",
        "    a1 = constant(1.0)\n",
        "    a2 = constant(4.0)\n",
        "    ksq = constant(1.0)\n",
        "    pi = constant(math.pi)\n",
        "\n",
        "    # we use this specific forcing term because we have an exact analytical solution for this case\n",
        "    # to compare the results of the PINN solution\n",
        "    # note that we must use tensorflow math primitives such as sin, cos, etc!\n",
        "    forcing = - (a1 * pi) ** 2 * sin(a1 * pi * x) * sin(a2 * pi * y) - \\\n",
        "              (a2 * pi) ** 2 * sin(a1 * pi * x) * sin(a2 * pi * y) + \\\n",
        "              ksq * sin(a1 * pi * x) * sin(a2 * pi * y)\n",
        "\n",
        "    f_u = u_xx + u_yy + ksq * u - forcing  # = 0\n",
        "\n",
        "    return f_u\n",
        "\n",
        "\n",
        "upper_x = dirichletBC(Domain, val=0.0, var='x', target=\"upper\")\n",
        "lower_x = dirichletBC(Domain, val=0.0, var='x', target=\"lower\")\n",
        "upper_y = dirichletBC(Domain, val=0.0, var='y', target=\"upper\")\n",
        "lower_y = dirichletBC(Domain, val=0.0, var='y', target=\"lower\")\n",
        "\n",
        "BCs = [upper_x, lower_x, upper_y, lower_y]\n",
        "\n",
        "layer_sizes = [2, 50, 50, 50, 50, 1]\n",
        "\n",
        "model = CollocationSolverND()\n",
        "model.compile(layer_sizes, f_model, Domain, BCs)\n",
        "\n",
        "# TDQ example has 10k,10k - here 3k per adam/adam works. With SA-PINN more iterations are required.\n",
        "# More iterations here will yield more accuracy, of course.\n",
        "model.fit(tf_iter=3000, newton_iter=3000)\n",
        "\n"
      ],
      "execution_count": null,
      "outputs": [
        {
          "output_type": "stream",
          "text": [
            "starting Adam training\n",
            "It: 0, Time: 2.00\n",
            "total loss: 6971.8544921875\n",
            "It: 100, Time: 0.93\n",
            "total loss: 4166.189453125\n",
            "It: 200, Time: 0.87\n",
            "total loss: 2241.856689453125\n",
            "It: 300, Time: 0.87\n",
            "total loss: 1648.008056640625\n",
            "It: 400, Time: 0.87\n",
            "total loss: 1023.6297607421875\n",
            "It: 500, Time: 0.87\n",
            "total loss: 622.2557983398438\n",
            "It: 600, Time: 0.88\n",
            "total loss: 185.74948120117188\n",
            "It: 700, Time: 0.87\n",
            "total loss: 113.8072509765625\n",
            "It: 800, Time: 0.88\n",
            "total loss: 77.90478515625\n",
            "It: 900, Time: 0.88\n",
            "total loss: 55.64616394042969\n",
            "It: 1000, Time: 0.88\n",
            "total loss: 35.82587432861328\n",
            "It: 1100, Time: 0.88\n",
            "total loss: 15.606059074401855\n",
            "It: 1200, Time: 0.88\n",
            "total loss: 9.783634185791016\n",
            "It: 1300, Time: 0.88\n",
            "total loss: 6.426933288574219\n",
            "It: 1400, Time: 0.88\n",
            "total loss: 4.694986820220947\n",
            "It: 1500, Time: 0.88\n",
            "total loss: 3.5496509075164795\n",
            "It: 1600, Time: 0.89\n",
            "total loss: 2.7730846405029297\n",
            "It: 1700, Time: 0.89\n",
            "total loss: 2.512239933013916\n",
            "It: 1800, Time: 0.89\n",
            "total loss: 1.9885332584381104\n",
            "It: 1900, Time: 0.89\n",
            "total loss: 1.8034852743148804\n",
            "It: 2000, Time: 0.89\n",
            "total loss: 1.490065336227417\n",
            "It: 2100, Time: 0.89\n",
            "total loss: 1.3428308963775635\n",
            "It: 2200, Time: 0.89\n",
            "total loss: 1.203406810760498\n",
            "It: 2300, Time: 0.88\n",
            "total loss: 1.1007983684539795\n",
            "It: 2400, Time: 0.88\n",
            "total loss: 1.1152994632720947\n",
            "It: 2500, Time: 0.88\n",
            "total loss: 1.0476146936416626\n",
            "It: 2600, Time: 0.88\n",
            "total loss: 0.8865329027175903\n",
            "It: 2700, Time: 0.88\n",
            "total loss: 0.8833833932876587\n",
            "It: 2800, Time: 0.88\n",
            "total loss: 1.317448616027832\n",
            "It: 2900, Time: 0.88\n",
            "total loss: 0.7208943367004395\n",
            "Starting L-BFGS training\n",
            "Executing eager-mode L-BFGS\n",
            "Step: 100, loss: 0.58979791, time:  4.733522653579712\n",
            "Step: 200, loss: 0.42033929, time:  4.739262342453003\n",
            "Step: 300, loss: 0.36135447, time:  4.797565221786499\n",
            "Step: 400, loss: 0.32838461, time:  4.760066270828247\n",
            "Step: 500, loss: 0.30551246, time:  4.795205116271973\n",
            "Step: 600, loss: 0.28467849, time:  4.847274541854858\n",
            "Step: 700, loss: 0.26690739, time:  4.789705038070679\n",
            "Step: 800, loss: 0.24874605, time:  4.809088230133057\n",
            "Step: 900, loss: 0.23275845, time:  4.815346002578735\n",
            "Step: 1000, loss: 0.21798804, time:  4.783923625946045\n",
            "Step: 1100, loss: 0.20463228, time:  4.838333368301392\n",
            "Step: 1200, loss: 0.19526675, time:  4.811463832855225\n",
            "Step: 1300, loss: 0.18569550, time:  4.850738525390625\n",
            "Step: 1400, loss: 0.17479588, time:  4.804145097732544\n",
            "Step: 1500, loss: 0.16619796, time:  4.959990978240967\n",
            "Step: 1600, loss: 0.15898010, time:  4.829276084899902\n",
            "Step: 1700, loss: 0.15189311, time:  4.697094678878784\n",
            "Step: 1800, loss: 0.14421639, time:  4.814354658126831\n",
            "Step: 1900, loss: 0.13841584, time:  4.782023668289185\n",
            "Step: 2000, loss: 0.13259082, time:  4.736287355422974\n",
            "Step: 2100, loss: 0.12669030, time:  4.759325265884399\n",
            "Step: 2200, loss: 0.12134542, time:  4.821608066558838\n",
            "Step: 2300, loss: 0.11539268, time:  4.8331286907196045\n",
            "Step: 2400, loss: 0.10999486, time:  4.774795770645142\n",
            "Step: 2500, loss: 0.10623126, time:  4.8100645542144775\n",
            "Step: 2600, loss: 0.10340573, time:  4.801894903182983\n",
            "Step: 2700, loss: 0.09957793, time:  4.7572572231292725\n",
            "Step: 2800, loss: 0.09599809, time:  4.8481714725494385\n",
            "Step: 2900, loss: 0.09196394, time:  4.8918561935424805\n"
          ],
          "name": "stdout"
        }
      ]
    },
    {
      "cell_type": "markdown",
      "metadata": {
        "id": "jK359saLC1Ge"
      },
      "source": [
        "## Plotting"
      ]
    },
    {
      "cell_type": "code",
      "metadata": {
        "colab": {
          "base_uri": "https://localhost:8080/"
        },
        "id": "C0vII-Y8CDcd",
        "outputId": "b86c210c-bbce-4b1f-bdb1-90fda9730c5a"
      },
      "source": [
        "# get exact solution\n",
        "nx, ny = (1001, 1001)\n",
        "x = np.linspace(-1, 1, nx)\n",
        "y = np.linspace(-1, 1, ny)\n",
        "\n",
        "xv, yv = np.meshgrid(x, y)\n",
        "\n",
        "x = np.reshape(x, (-1, 1))\n",
        "y = np.reshape(y, (-1, 1))\n",
        "\n",
        "# Exact analytical soln is available:\n",
        "Exact_u = np.sin(math.pi * xv) * np.sin(4 * math.pi * yv)\n",
        "\n",
        "# Flatten for use\n",
        "u_star = Exact_u.flatten()[:, None]\n",
        "\n",
        "# Plotting\n",
        "x = Domain.domaindict[0]['xlinspace']\n",
        "y = Domain.domaindict[1][\"ylinspace\"]\n",
        "\n",
        "X, Y = np.meshgrid(x, y)\n",
        "\n",
        "# print(np.shape((X,Y))) # 2, 256, 256\n",
        "X_star = np.hstack((X.flatten()[:, None], Y.flatten()[:, None]))\n",
        "\n",
        "lb = np.array([-1.0, -1.0])\n",
        "ub = np.array([1.0, 1])\n",
        "\n",
        "u_pred, f_u_pred = model.predict(X_star)\n",
        "\n",
        "error_u = tdq.helpers.find_L2_error(u_pred, u_star)\n",
        "print('Error u: %e' % (error_u))\n"
      ],
      "execution_count": null,
      "outputs": [
        {
          "output_type": "stream",
          "text": [
            "Error u: 3.089495e-02\n"
          ],
          "name": "stdout"
        }
      ]
    },
    {
      "cell_type": "markdown",
      "metadata": {
        "id": "QnaqNr9YFt6y"
      },
      "source": [
        "The above error is the L2 error across the entire domain for all 1m points in the domain. So the actual error per timestep is relatively small. There are 1000 timesteps, so we can appriximate an error of the above number % 1000 for the avg residual at each timestep. "
      ]
    },
    {
      "cell_type": "markdown",
      "metadata": {
        "id": "7_eTtVF-EnGX"
      },
      "source": [
        "Manual plotting for a bug where the transpose of the solution is displayed. Will be repaired in a later release. "
      ]
    },
    {
      "cell_type": "code",
      "metadata": {
        "colab": {
          "base_uri": "https://localhost:8080/",
          "height": 368
        },
        "id": "onV6ycBVDdoN",
        "outputId": "8e25d03a-8f0d-4dd1-fb45-929617d3e374"
      },
      "source": [
        "U_pred = tdq.plotting.get_griddata(X_star, u_pred.T.flatten(), (X, Y))\n",
        "FU_pred = tdq.plotting.get_griddata(X_star, f_u_pred.T.flatten(), (X, Y))\n",
        "\n",
        "fig, ax = newfig(1.3, 1.0)\n",
        "ax.axis('off')\n",
        "\n",
        "####### Row 0: h(t,x) ##################\n",
        "gs0 = gridspec.GridSpec(1, 2)\n",
        "gs0.update(top=1-0.06, bottom=1-1/3, left=0.15, right=0.85, wspace=0)\n",
        "ax = plt.subplot(gs0[:, :])\n",
        "\n",
        "h = ax.imshow(U_pred, interpolation='nearest', cmap='YlGnBu',\n",
        "              extent=[lb[1], ub[1], lb[0], ub[0]],\n",
        "              origin='lower', aspect='auto')\n",
        "divider = make_axes_locatable(ax)\n",
        "cax = divider.append_axes(\"right\", size=\"5%\", pad=0.05)\n",
        "fig.colorbar(h, cax=cax)\n",
        "\n",
        "\n",
        "line = np.linspace(x.min(), x.max(), 2)[:,None]\n",
        "ax.plot(y[250]*np.ones((2,1)), line, 'k--', linewidth = 1)\n",
        "ax.plot(y[500]*np.ones((2,1)), line, 'k--', linewidth = 1)\n",
        "ax.plot(y[750]*np.ones((2,1)), line, 'k--', linewidth = 1)\n",
        "\n",
        "ax.set_xlabel('$x$')\n",
        "ax.set_ylabel('$y$')\n",
        "leg = ax.legend(frameon=False, loc = 'best')\n",
        "\n",
        "ax.set_title('$u(x,y)$', fontsize = 10)\n",
        "\n",
        "####### Row 1: h(t,x) slices ##################\n",
        "gs1 = gridspec.GridSpec(1, 3)\n",
        "gs1.update(top=1-1/3, bottom=0, left=0.1, right=0.9, wspace=0.5)\n",
        "\n",
        "ax = plt.subplot(gs1[0, 0])\n",
        "ax.plot(x,Exact_u[:,250], 'b-', linewidth = 2, label = 'Exact')\n",
        "ax.plot(x,U_pred[:,250], 'r--', linewidth = 2, label = 'Prediction')\n",
        "ax.set_xlabel('$y$')\n",
        "ax.set_ylabel('$u(x,y)$')\n",
        "ax.set_title('$y = %.2f$' % (y[250]), fontsize = 10)\n",
        "ax.axis('square')\n",
        "ax.set_xlim([-1.1,1.1])\n",
        "ax.set_ylim([-1.1,1.1])\n",
        "\n",
        "ax = plt.subplot(gs1[0, 1])\n",
        "ax.plot(x,Exact_u[:,500], 'b-', linewidth = 2, label = 'Exact')\n",
        "ax.plot(x,U_pred[:,500], 'r--', linewidth = 2, label = 'Prediction')\n",
        "ax.set_xlabel('$y$')\n",
        "ax.set_ylabel('$u(x,y)$')\n",
        "ax.axis('square')\n",
        "ax.set_xlim([-1.1,1.1])\n",
        "ax.set_ylim([-1.1,1.1])\n",
        "ax.set_title('$x = %.2f$' % (y[500]), fontsize = 10)\n",
        "ax.legend(loc='upper center', bbox_to_anchor=(0.5, -0.3), ncol=5, frameon=False)\n",
        "\n",
        "ax = plt.subplot(gs1[0, 2])\n",
        "ax.plot(x,Exact_u[:,750], 'b-', linewidth = 2, label = 'Exact')\n",
        "ax.plot(x,U_pred[:,750], 'r--', linewidth = 2, label = 'Prediction')\n",
        "ax.set_xlabel('$y$')\n",
        "ax.set_ylabel('$u(x,y)$')\n",
        "ax.axis('square')\n",
        "ax.set_xlim([-1.1,1.1])\n",
        "ax.set_ylim([-1.1,1.1])\n",
        "ax.set_title('$x = %.2f$' % (y[750]), fontsize = 10)"
      ],
      "execution_count": null,
      "outputs": [
        {
          "output_type": "stream",
          "text": [
            "No handles with labels found to put in legend.\n"
          ],
          "name": "stderr"
        },
        {
          "output_type": "execute_result",
          "data": {
            "text/plain": [
              "Text(0.5, 1.0, '$x = 0.50$')"
            ]
          },
          "metadata": {
            "tags": []
          },
          "execution_count": 5
        },
        {
          "output_type": "display_data",
          "data": {
            "image/png": "[encoded data removed]",
            "text/plain": [
              "<Figure size 505.106x312.173 with 5 Axes>"
            ]
          },
          "metadata": {
            "tags": [],
            "needs_background": "light"
          }
        }
      ]
    }
  ]
}